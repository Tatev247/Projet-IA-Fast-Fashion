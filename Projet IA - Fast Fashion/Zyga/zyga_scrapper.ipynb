{
 "cells": [
  {
   "cell_type": "code",
   "execution_count": 1,
   "metadata": {
    "id": "yfPuc7s1WTPs"
   },
   "outputs": [],
   "source": [
    "import requests\n",
    "from bs4 import BeautifulSoup\n",
    "import pandas as pd"
   ]
  },
  {
   "cell_type": "code",
   "execution_count": 2,
   "metadata": {
    "id": "J_MRBWExLwom"
   },
   "outputs": [],
   "source": [
    "headers = {\"user-agent\":'Mozilla/5.0 (Windows NT 10.0; Win64; x64) AppleWebKit/537.36 (KHTML, like Gecko) Chrome/112.0.0.0 Safari/537.36'}"
   ]
  },
  {
   "cell_type": "code",
   "execution_count": 3,
   "metadata": {
    "id": "xVgpz0F49-Fo"
   },
   "outputs": [],
   "source": [
    "#print(clothesInfoList)\n",
    "def get_all_pages(headers):\n",
    "\n",
    "  product_links = []\n",
    "\n",
    "  for page in range(1,4):\n",
    "    response = requests.get(f\"https://zyga.fr/115-toute-la-collection-2023?page={page}\", headers=headers)\n",
    "    soup = BeautifulSoup(response.content, 'html.parser')\n",
    "    clothesInfoList = soup.find_all(\"div\", class_=\"products row\")\n",
    "\n",
    "    for item in clothesInfoList:\n",
    "      # Retrieve the clothes link\n",
    "      for link in item.find_all(\"a\", href=True):\n",
    "        #print(link.get('href'))\n",
    "        # print(link[\"href\"])\n",
    "        product_links.append(link[\"href\"])\n",
    "  # print(clothesLinks)\n",
    "\n",
    "  charToDelete = '#'\n",
    "  product_links = [character for character in product_links if character != charToDelete]\n",
    "  return product_links"
   ]
  },
  {
   "cell_type": "code",
   "execution_count": 4,
   "metadata": {
    "id": "oc1y0FoCMD2z"
   },
   "outputs": [],
   "source": [
    "product_links = get_all_pages(headers)"
   ]
  },
  {
   "cell_type": "code",
   "execution_count": 5,
   "metadata": {
    "colab": {
     "base_uri": "https://localhost:8080/"
    },
    "executionInfo": {
     "elapsed": 17,
     "status": "ok",
     "timestamp": 1683479534293,
     "user": {
      "displayName": "srilakshmi balard",
      "userId": "03765410236605464472"
     },
     "user_tz": -120
    },
    "id": "e5s_qiaEMuWg",
    "outputId": "b1bcff07-216c-4ca7-e7de-118f64aee237"
   },
   "outputs": [
    {
     "name": "stdout",
     "output_type": "stream",
     "text": [
      "216\n",
      "['https://zyga.fr/Robes-femme-lin-printemps-ete/2372-10492-robe-ample-midi-summer-gaze-lin-vert-green.html#/143-taille-34', 'https://zyga.fr/Robes-femme-lin-printemps-ete/2372-10492-robe-ample-midi-summer-gaze-lin-vert-green.html#/143-taille-34', 'https://zyga.fr/Chemises-tops-femme-lin-printemps-ete/2429-10779-blouse-fronce-imprimee-france-gaze-lin-solange-vert-green.html#/143-taille-34', 'https://zyga.fr/Chemises-tops-femme-lin-printemps-ete/2429-10779-blouse-fronce-imprimee-france-gaze-lin-solange-vert-green.html#/143-taille-34', 'https://zyga.fr/Robes-femme-lin-printemps-ete/2459-10948-robe-polo-evasee-selma-lin-leger-vert-green.html#/143-taille-34', 'https://zyga.fr/Robes-femme-lin-printemps-ete/2459-10948-robe-polo-evasee-selma-lin-leger-vert-green.html#/143-taille-34', 'https://zyga.fr/Robes-femme-lin-printemps-ete/2431-10793-robe-midi-sans-manches-marie-lin-leger-imprime-vert-green.html#/141-taille-s', 'https://zyga.fr/Robes-femme-lin-printemps-ete/2431-10793-robe-midi-sans-manches-marie-lin-leger-imprime-vert-green.html#/141-taille-s', 'https://zyga.fr/Chemises-tops-femme-lin-printemps-ete/2213-9423-top-debardeur-brode-dentelle-lin-moyen-soledad-blanc.html#/143-taille-34', 'https://zyga.fr/Chemises-tops-femme-lin-printemps-ete/2213-9423-top-debardeur-brode-dentelle-lin-moyen-soledad-blanc.html#/143-taille-34', 'https://zyga.fr/Robes-femme-lin-printemps-ete/2251-9708-robe-courte-brodee-sabrina-lin-moyen-blanc.html#/143-taille-34', 'https://zyga.fr/Robes-femme-lin-printemps-ete/2251-9708-robe-courte-brodee-sabrina-lin-moyen-blanc.html#/143-taille-34', 'https://zyga.fr/Robes-femme-lin-printemps-ete/2364-10461-robe-tunique-style-poncho-sakura-gaze-lin-noire.html#/141-taille-s', 'https://zyga.fr/Robes-femme-lin-printemps-ete/2364-10461-robe-tunique-style-poncho-sakura-gaze-lin-noire.html#/141-taille-s', 'https://zyga.fr/Robes-femme-lin-printemps-ete/2382-10550-robe-longue-nouee-shirley-gaze-lin-noire.html#/140-taille-xs', 'https://zyga.fr/Robes-femme-lin-printemps-ete/2382-10550-robe-longue-nouee-shirley-gaze-lin-noire.html#/140-taille-xs', 'https://zyga.fr/Robes-femme-lin-printemps-ete/2432-10798-robe-midi-sans-manches-marie-gaze-lin-imprime-terre-sienne.html#/141-taille-s', 'https://zyga.fr/Robes-femme-lin-printemps-ete/2432-10798-robe-midi-sans-manches-marie-gaze-lin-imprime-terre-sienne.html#/141-taille-s', 'https://zyga.fr/Robes-femme-lin-printemps-ete/2348-10375-robe-midi-sans-manches-marie-gaze-lin-orange.html#/141-taille-s', 'https://zyga.fr/Robes-femme-lin-printemps-ete/2348-10375-robe-midi-sans-manches-marie-gaze-lin-orange.html#/141-taille-s', 'https://zyga.fr/Robes-femme-lin-printemps-ete/2445-10869-robe-ample-midi-summer-gaze-lin-imprimee-rose-dragee.html#/143-taille-34', 'https://zyga.fr/Robes-femme-lin-printemps-ete/2445-10869-robe-ample-midi-summer-gaze-lin-imprimee-rose-dragee.html#/143-taille-34', 'https://zyga.fr/Robes-femme-lin-printemps-ete/2434-10810-robe-ample-midi-summer-gaze-lin-imprimee-terre-sienne.html#/143-taille-34', 'https://zyga.fr/Robes-femme-lin-printemps-ete/2434-10810-robe-ample-midi-summer-gaze-lin-imprimee-terre-sienne.html#/143-taille-34', 'https://zyga.fr/Robes-femme-lin-printemps-ete/2448-10878-robe-midi-sans-manches-marie-gaze-lin-imprime-bleu-encre.html#/141-taille-s', 'https://zyga.fr/Robes-femme-lin-printemps-ete/2448-10878-robe-midi-sans-manches-marie-gaze-lin-imprime-bleu-encre.html#/141-taille-s', 'https://zyga.fr/Robes-femme-lin-printemps-ete/2452-10902-robe-longue-nouee-shirley-gaze-lin-imprimee-bleu-encre.html#/140-taille-xs', 'https://zyga.fr/Robes-femme-lin-printemps-ete/2452-10902-robe-longue-nouee-shirley-gaze-lin-imprimee-bleu-encre.html#/140-taille-xs', 'https://zyga.fr/nouveautes/2475-11064-t-shirt-manches-courtes-star-jersey-lin-imprime-rose-dragee.html#/140-taille-xs', 'https://zyga.fr/nouveautes/2475-11064-t-shirt-manches-courtes-star-jersey-lin-imprime-rose-dragee.html#/140-taille-xs', 'https://zyga.fr/Robes-femme-lin-printemps-ete/2486-11120-robe-chemise-ceinturee-sibylle-lin-moyen-bleu-encre.html#/143-taille-34', 'https://zyga.fr/Robes-femme-lin-printemps-ete/2486-11120-robe-chemise-ceinturee-sibylle-lin-moyen-bleu-encre.html#/143-taille-34', 'https://zyga.fr/Robes-femme-lin-printemps-ete/2322-10196-robe-evasee-manches-bouffantes-sonia-gaze-lin-bleu-regate.html#/143-taille-34', 'https://zyga.fr/Robes-femme-lin-printemps-ete/2322-10196-robe-evasee-manches-bouffantes-sonia-gaze-lin-bleu-regate.html#/143-taille-34', 'https://zyga.fr/Robes-femme-lin-printemps-ete/2376-10520-robe-ample-midi-summer-gaze-lin-bleu-regate.html#/143-taille-34', 'https://zyga.fr/Robes-femme-lin-printemps-ete/2376-10520-robe-ample-midi-summer-gaze-lin-bleu-regate.html#/143-taille-34', 'https://zyga.fr/vestes-blazers-femme-lin-printemps-ete/2277-11133-veste-travail-homme-serge-lin-moyen-bleu-regate.html#/143-taille-34', 'https://zyga.fr/vestes-blazers-femme-lin-printemps-ete/2277-11133-veste-travail-homme-serge-lin-moyen-bleu-regate.html#/143-taille-34', 'https://zyga.fr/nouveautes/2474-11059-t-shirt-manches-courtes-star-jersey-lin-imprime-blanc.html#/140-taille-xs', 'https://zyga.fr/nouveautes/2474-11059-t-shirt-manches-courtes-star-jersey-lin-imprime-blanc.html#/140-taille-xs', 'https://zyga.fr/Chemises-tops-femme-lin-printemps-ete/2215-9437-top-debardeur-brode-dentelle-lin-moyen-soledad-bleu-encre.html#/143-taille-34', 'https://zyga.fr/Chemises-tops-femme-lin-printemps-ete/2215-9437-top-debardeur-brode-dentelle-lin-moyen-soledad-bleu-encre.html#/143-taille-34', 'https://zyga.fr/Robes-femme-lin-printemps-ete/2248-9684-robe-droite-decollete-v-sabine-lin-moyen-rouge-piment.html#/143-taille-34', 'https://zyga.fr/Robes-femme-lin-printemps-ete/2248-9684-robe-droite-decollete-v-sabine-lin-moyen-rouge-piment.html#/143-taille-34', 'https://zyga.fr/pantalons-shorts-femme-lin-printemps-ete/2232-9566-pantalon-coupe-carotte-niels-lin-moyen-terre-siennen.html#/143-taille-34', 'https://zyga.fr/pantalons-shorts-femme-lin-printemps-ete/2232-9566-pantalon-coupe-carotte-niels-lin-moyen-terre-siennen.html#/143-taille-34', 'https://zyga.fr/Robes-femme-lin-printemps-ete/2341-10337-robe-evase-longueur-midi-sana-lin-leger-terre-sienne.html#/143-taille-34', 'https://zyga.fr/Robes-femme-lin-printemps-ete/2341-10337-robe-evase-longueur-midi-sana-lin-leger-terre-sienne.html#/143-taille-34', 'https://zyga.fr/Robes-femme-lin-printemps-ete/2320-10182-robe-evasee-manches-bouffantes-sonia-gaze-lin-orange.html#/143-taille-34', 'https://zyga.fr/Robes-femme-lin-printemps-ete/2320-10182-robe-evasee-manches-bouffantes-sonia-gaze-lin-orange.html#/143-taille-34', 'https://zyga.fr/Robes-femme-lin-printemps-ete/2329-10245-robe-plissee-sophie-lin-moyen-orange.html#/143-taille-34', 'https://zyga.fr/Robes-femme-lin-printemps-ete/2329-10245-robe-plissee-sophie-lin-moyen-orange.html#/143-taille-34', 'https://zyga.fr/vestes-blazers-femme-lin-printemps-ete/2278-9888-veste-travail-homme-serge-lin-moyen-terre-sienne.html#/143-taille-34', 'https://zyga.fr/vestes-blazers-femme-lin-printemps-ete/2278-9888-veste-travail-homme-serge-lin-moyen-terre-sienne.html#/143-taille-34', 'https://zyga.fr/Robes-femme-lin-printemps-ete/2464-10988-robe-polo-evasee-selma-lin-leger-terre-sienne.html#/143-taille-34', 'https://zyga.fr/Robes-femme-lin-printemps-ete/2464-10988-robe-polo-evasee-selma-lin-leger-terre-sienne.html#/143-taille-34', 'https://zyga.fr/Robes-femme-lin-printemps-ete/2249-9692-robe-droite-decollete-v-sabine-lin-moyen-bleu-regate.html#/143-taille-34', 'https://zyga.fr/Robes-femme-lin-printemps-ete/2249-9692-robe-droite-decollete-v-sabine-lin-moyen-bleu-regate.html#/143-taille-34', 'https://zyga.fr/Robes-femme-lin-printemps-ete/2299-10035-robe-chemise-ceinture-suzanne-lin-leger-bleu-encre.html#/143-taille-34', 'https://zyga.fr/Robes-femme-lin-printemps-ete/2299-10035-robe-chemise-ceinture-suzanne-lin-leger-bleu-encre.html#/143-taille-34', 'https://zyga.fr/Chemises-tops-femme-lin-printemps-ete/2426-10757-top-col-v-manches-courtes-lin-leger-sixtine-bleu-regate-.html#/143-taille-34', 'https://zyga.fr/Chemises-tops-femme-lin-printemps-ete/2426-10757-top-col-v-manches-courtes-lin-leger-sixtine-bleu-regate-.html#/143-taille-34', 'https://zyga.fr/vestes-blazers-femme-lin-printemps-ete/2260-9762-veste-blazer-sardaigne-lin-moyen-rose-dragee.html#/143-taille-34', 'https://zyga.fr/vestes-blazers-femme-lin-printemps-ete/2260-9762-veste-blazer-sardaigne-lin-moyen-rose-dragee.html#/143-taille-34', 'https://zyga.fr/pantalons-shorts-femme-lin-printemps-ete/2226-9518-pantalon-coupe-carotte-niels-lin-moyen-bleu-encre.html#/143-taille-34', 'https://zyga.fr/pantalons-shorts-femme-lin-printemps-ete/2226-9518-pantalon-coupe-carotte-niels-lin-moyen-bleu-encre.html#/143-taille-34', 'https://zyga.fr/Robes-femme-lin-printemps-ete/2257-9744-robe-courte-brodee-sabrina-lin-moyen-rouge-piment.html#/143-taille-34', 'https://zyga.fr/Robes-femme-lin-printemps-ete/2257-9744-robe-courte-brodee-sabrina-lin-moyen-rouge-piment.html#/143-taille-34', 'https://zyga.fr/vestes-blazers-femme-lin-printemps-ete/2262-9776-veste-blazer-sardaigne-lin-moyen-bleu-encre.html#/143-taille-34', 'https://zyga.fr/vestes-blazers-femme-lin-printemps-ete/2262-9776-veste-blazer-sardaigne-lin-moyen-bleu-encre.html#/143-taille-34', 'https://zyga.fr/Robes-femme-lin-printemps-ete/2326-10224-robe-plissee-sophie-lin-moyen-bleu-encre.html#/143-taille-34', 'https://zyga.fr/Robes-femme-lin-printemps-ete/2326-10224-robe-plissee-sophie-lin-moyen-bleu-encre.html#/143-taille-34', 'https://zyga.fr/Robes-femme-lin-printemps-ete/2463-10980-robe-polo-evasee-selma-lin-leger-bleu-regate.html#/143-taille-34', 'https://zyga.fr/Robes-femme-lin-printemps-ete/2463-10980-robe-polo-evasee-selma-lin-leger-bleu-regate.html#/143-taille-34', 'https://zyga.fr/Robes-femme-lin-printemps-ete/2253-9720-robe-courte-brodee-sabrina-lin-moyen-bleu-encre.html#/143-taille-34', 'https://zyga.fr/Robes-femme-lin-printemps-ete/2253-9720-robe-courte-brodee-sabrina-lin-moyen-bleu-encre.html#/143-taille-34', 'https://zyga.fr/Robes-femme-lin-printemps-ete/2340-10329-robe-evase-longueur-midi-sana-lin-leger-bleu-regate.html#/143-taille-34', 'https://zyga.fr/Robes-femme-lin-printemps-ete/2340-10329-robe-evase-longueur-midi-sana-lin-leger-bleu-regate.html#/143-taille-34', 'https://zyga.fr/Robes-femme-lin-printemps-ete/2427-10764-robe-ample-droite-imprimee-sally-lin-leger-bleu-regate.html#/143-taille-34', 'https://zyga.fr/Robes-femme-lin-printemps-ete/2427-10764-robe-ample-droite-imprimee-sally-lin-leger-bleu-regate.html#/143-taille-34', 'https://zyga.fr/Robes-femme-lin-printemps-ete/2428-10772-robe-ample-droite-imprimee-suzanne-lin-leger-bleu-regate.html#/143-taille-34', 'https://zyga.fr/Robes-femme-lin-printemps-ete/2428-10772-robe-ample-droite-imprimee-suzanne-lin-leger-bleu-regate.html#/143-taille-34', 'https://zyga.fr/Robes-femme-lin-printemps-ete/2290-9972-robe-courte-lacets-scarlett-lin-moyen-bleu-encre.html#/143-taille-34', 'https://zyga.fr/Robes-femme-lin-printemps-ete/2290-9972-robe-courte-lacets-scarlett-lin-moyen-bleu-encre.html#/143-taille-34', 'https://zyga.fr/Robes-femme-lin-printemps-ete/2487-11126-robe-chemise-ceinturee-sibylle-lin-moyen-bleu-regate.html#/143-taille-34', 'https://zyga.fr/Robes-femme-lin-printemps-ete/2487-11126-robe-chemise-ceinturee-sibylle-lin-moyen-bleu-regate.html#/143-taille-34', 'https://zyga.fr/nouveautes/2483-11104-t-shirt-manches-courtes-col-v-sabin-jersey-lin-rose-dragee.html#/140-taille-xs', 'https://zyga.fr/nouveautes/2483-11104-t-shirt-manches-courtes-col-v-sabin-jersey-lin-rose-dragee.html#/140-taille-xs', 'https://zyga.fr/nouveautes/2476-11069-t-shirt-manches-trois-quarts-ample-stuart-jersey-lin-blanc.html#/140-taille-xs', 'https://zyga.fr/nouveautes/2476-11069-t-shirt-manches-trois-quarts-ample-stuart-jersey-lin-blanc.html#/140-taille-xs', 'https://zyga.fr/Robes-femme-lin-printemps-ete/2494-11178-robe-courte-lacets-scarlett-lin-moyen-terre-sienne.html#/143-taille-34', 'https://zyga.fr/Robes-femme-lin-printemps-ete/2494-11178-robe-courte-lacets-scarlett-lin-moyen-terre-sienne.html#/143-taille-34', 'https://zyga.fr/pantalons-shorts-femme-lin-printemps-ete/2281-9909-bermuda-ample-pli-steffi-lin-moyen-bleu-encre.html#/143-taille-34', 'https://zyga.fr/pantalons-shorts-femme-lin-printemps-ete/2281-9909-bermuda-ample-pli-steffi-lin-moyen-bleu-encre.html#/143-taille-34', 'https://zyga.fr/pantalons-shorts-femme-lin-printemps-ete/2424-10742-pantalon-coupe-carotte-niels-lin-moyen-prince-de-galles.html#/143-taille-34', 'https://zyga.fr/pantalons-shorts-femme-lin-printemps-ete/2424-10742-pantalon-coupe-carotte-niels-lin-moyen-prince-de-galles.html#/143-taille-34', 'https://zyga.fr/vestes-blazers-femme-lin-printemps-ete/2425-10750-veste-blazer-sardaigne-lin-moyen-prince-de-galles.html#/143-taille-34', 'https://zyga.fr/vestes-blazers-femme-lin-printemps-ete/2425-10750-veste-blazer-sardaigne-lin-moyen-prince-de-galles.html#/143-taille-34', 'https://zyga.fr/nouveautes/2484-11109-t-shirt-manches-courtes-col-v-sabin-jersey-lin-bleu-encre.html#/140-taille-xs', 'https://zyga.fr/nouveautes/2484-11109-t-shirt-manches-courtes-col-v-sabin-jersey-lin-bleu-encre.html#/140-taille-xs', 'https://zyga.fr/nouveautes/2481-11094-t-shirt-manches-courtes-col-v-sabin-jersey-lin-blanc.html#/140-taille-xs', 'https://zyga.fr/nouveautes/2481-11094-t-shirt-manches-courtes-col-v-sabin-jersey-lin-blanc.html#/140-taille-xs', 'https://zyga.fr/nouveautes/2479-11084-t-shirt-manches-trois-quarts-ample-stuart-jersey-lin-bleu-encre.html#/140-taille-xs', 'https://zyga.fr/nouveautes/2479-11084-t-shirt-manches-trois-quarts-ample-stuart-jersey-lin-bleu-encre.html#/140-taille-xs', 'https://zyga.fr/pantalons-shorts-femme-lin-printemps-ete/2280-9902-bermuda-ample-pli-steffi-lin-moyen-rose-dragee.html#/143-taille-34', 'https://zyga.fr/pantalons-shorts-femme-lin-printemps-ete/2280-9902-bermuda-ample-pli-steffi-lin-moyen-rose-dragee.html#/143-taille-34', 'https://zyga.fr/nouveautes/2478-11079-t-shirt-manches-trois-quarts-ample-stuart-jersey-lin-rose-dragee.html#/140-taille-xs', 'https://zyga.fr/nouveautes/2478-11079-t-shirt-manches-trois-quarts-ample-stuart-jersey-lin-rose-dragee.html#/140-taille-xs', 'https://zyga.fr/accessoires-femme-durable-printemps-ete/2415-10733-echarpe-duchesse-unicolore-en-lin-dragee-3013995621935.html#/34-taille-unique', 'https://zyga.fr/accessoires-femme-durable-printemps-ete/2415-10733-echarpe-duchesse-unicolore-en-lin-dragee-3013995621935.html#/34-taille-unique', 'https://zyga.fr/accessoires-femme-durable-printemps-ete/2447-10877-echarpe-foulard-imprimee-france-gaze-lin-duchesse-vert-olive-3013995634591.html#/34-taille-unique', 'https://zyga.fr/accessoires-femme-durable-printemps-ete/2447-10877-echarpe-foulard-imprimee-france-gaze-lin-duchesse-vert-olive-3013995634591.html#/34-taille-unique', 'https://zyga.fr/Robes-femme-lin-printemps-ete/2453-10906-robe-longue-nouee-shirley-gaze-lin-imprimee-vert-olive.html#/140-taille-xs', 'https://zyga.fr/Robes-femme-lin-printemps-ete/2453-10906-robe-longue-nouee-shirley-gaze-lin-imprimee-vert-olive.html#/140-taille-xs', 'https://zyga.fr/accessoires-femme-durable-printemps-ete/2418-10736-echarpe-foulard-gaze-lin-duchesse-vert-olive-3013995621973.html#/34-taille-unique', 'https://zyga.fr/accessoires-femme-durable-printemps-ete/2418-10736-echarpe-foulard-gaze-lin-duchesse-vert-olive-3013995621973.html#/34-taille-unique', 'https://zyga.fr/accessoires-femme-durable-printemps-ete/2208-9413-chapeau-bob-lin-sunny-vert-olive.html#/141-taille-s', 'https://zyga.fr/accessoires-femme-durable-printemps-ete/2208-9413-chapeau-bob-lin-sunny-vert-olive.html#/141-taille-s', 'https://zyga.fr/accessoires-femme-durable-printemps-ete/2211-9419-chapeau-bob-lin-sunny-bleu-regate.html#/141-taille-s', 'https://zyga.fr/accessoires-femme-durable-printemps-ete/2211-9419-chapeau-bob-lin-sunny-bleu-regate.html#/141-taille-s', 'https://zyga.fr/accessoires-femme-durable-printemps-ete/2419-10737-echarpe-foulard-gaze-lin-duchesse-orange-3013995621980.html#/34-taille-unique', 'https://zyga.fr/accessoires-femme-durable-printemps-ete/2419-10737-echarpe-foulard-gaze-lin-duchesse-orange-3013995621980.html#/34-taille-unique', 'https://zyga.fr/accessoires-femme-durable-printemps-ete/2209-11119-chapeau-bob-lin-sunny-orange.html#/141-taille-s', 'https://zyga.fr/accessoires-femme-durable-printemps-ete/2209-11119-chapeau-bob-lin-sunny-orange.html#/141-taille-s', 'https://zyga.fr/accessoires-femme-durable-printemps-ete/2441-10849-echarpe-foulard-imprimee-france-gaze-lin-duchesse-rose-dragee-3013995634133.html#/34-taille-unique', 'https://zyga.fr/accessoires-femme-durable-printemps-ete/2441-10849-echarpe-foulard-imprimee-france-gaze-lin-duchesse-rose-dragee-3013995634133.html#/34-taille-unique', 'https://zyga.fr/Robes-femme-lin-printemps-ete/2385-10562-robe-longue-nouee-shirley-gaze-lin-bleu-regate.html#/140-taille-xs', 'https://zyga.fr/Robes-femme-lin-printemps-ete/2385-10562-robe-longue-nouee-shirley-gaze-lin-bleu-regate.html#/140-taille-xs', 'https://zyga.fr/accessoires-femme-durable-printemps-ete/2446-10876-echarpe-foulard-imprimee-france-gaze-lin-duchesse-bleu-encre-3013995634584.html#/34-taille-unique', 'https://zyga.fr/accessoires-femme-durable-printemps-ete/2446-10876-echarpe-foulard-imprimee-france-gaze-lin-duchesse-bleu-encre-3013995634584.html#/34-taille-unique', 'https://zyga.fr/accessoires-femme-durable-printemps-ete/2416-10734-echarpe-foulard-gaze-lin-duchesse-vert-green-3013995621959.html#/34-taille-unique', 'https://zyga.fr/accessoires-femme-durable-printemps-ete/2416-10734-echarpe-foulard-gaze-lin-duchesse-vert-green-3013995621959.html#/34-taille-unique', 'https://zyga.fr/Chemises-tops-femme-lin-printemps-ete/2387-10570-chemise-ample-boxy-gaze-lin-manches-courtes-iwa-blanc.html#/143-taille-34', 'https://zyga.fr/Chemises-tops-femme-lin-printemps-ete/2387-10570-chemise-ample-boxy-gaze-lin-manches-courtes-iwa-blanc.html#/143-taille-34', 'https://zyga.fr/accessoires-femme-durable-printemps-ete/2435-10817-echarpe-foulard-gaze-lin-duchesse-vert-green-3013995633396.html#/34-taille-unique', 'https://zyga.fr/accessoires-femme-durable-printemps-ete/2435-10817-echarpe-foulard-gaze-lin-duchesse-vert-green-3013995633396.html#/34-taille-unique', 'https://zyga.fr/accessoires-femme-durable-printemps-ete/2436-10818-echarpe-foulard-imprimee-france-gaze-lin-duchesse-terre-sienne-3013995633402.html#/34-taille-unique', 'https://zyga.fr/accessoires-femme-durable-printemps-ete/2436-10818-echarpe-foulard-imprimee-france-gaze-lin-duchesse-terre-sienne-3013995633402.html#/34-taille-unique', 'https://zyga.fr/Chemises-tops-femme-lin-printemps-ete/2404-10665-chemise-oversize-gaze-lin-june-manches-kimono-terre-sienne.html#/140-taille-xs', 'https://zyga.fr/Chemises-tops-femme-lin-printemps-ete/2404-10665-chemise-oversize-gaze-lin-june-manches-kimono-terre-sienne.html#/140-taille-xs', 'https://zyga.fr/Chemises-tops-femme-lin-printemps-ete/2395-10626-chemise-ample-boxy-gaze-lin-manches-courtes-iwa-terre-sienne.html#/143-taille-34', 'https://zyga.fr/Chemises-tops-femme-lin-printemps-ete/2395-10626-chemise-ample-boxy-gaze-lin-manches-courtes-iwa-terre-sienne.html#/143-taille-34', 'https://zyga.fr/Robes-femme-lin-printemps-ete/2433-10803-robe-ample-midi-summer-gaze-lin-imprimee-vert-green.html#/143-taille-34', 'https://zyga.fr/Robes-femme-lin-printemps-ete/2433-10803-robe-ample-midi-summer-gaze-lin-imprimee-vert-green.html#/143-taille-34', 'https://zyga.fr/Robes-femme-lin-printemps-ete/2449-10883-robe-midi-sans-manches-marie-gaze-lin-imprime-vert-olive.html#/141-taille-s', 'https://zyga.fr/Robes-femme-lin-printemps-ete/2449-10883-robe-midi-sans-manches-marie-gaze-lin-imprime-vert-olive.html#/141-taille-s', 'https://zyga.fr/Robes-femme-lin-printemps-ete/2374-10506-robe-ample-midi-summer-gaze-lin-vert-olive.html#/143-taille-34', 'https://zyga.fr/Robes-femme-lin-printemps-ete/2374-10506-robe-ample-midi-summer-gaze-lin-vert-olive.html#/143-taille-34', 'https://zyga.fr/Robes-femme-lin-printemps-ete/2444-10864-robe-midi-sans-manches-marie-gaze-lin-imprime-rose-dragee.html#/141-taille-s', 'https://zyga.fr/Robes-femme-lin-printemps-ete/2444-10864-robe-midi-sans-manches-marie-gaze-lin-imprime-rose-dragee.html#/141-taille-s', 'https://zyga.fr/Chemises-tops-femme-lin-printemps-ete/2442-10850-chemise-ample-imprimee-gaze-lin-manches-courtes-iwa-rose-dragee.html#/143-taille-34', 'https://zyga.fr/Chemises-tops-femme-lin-printemps-ete/2442-10850-chemise-ample-imprimee-gaze-lin-manches-courtes-iwa-rose-dragee.html#/143-taille-34', 'https://zyga.fr/Chemises-tops-femme-lin-printemps-ete/2403-10661-chemise-oversize-gaze-lin-june-manches-kimono-bleu-regate.html#/140-taille-xs', 'https://zyga.fr/Chemises-tops-femme-lin-printemps-ete/2403-10661-chemise-oversize-gaze-lin-june-manches-kimono-bleu-regate.html#/140-taille-xs', 'https://zyga.fr/Chemises-tops-femme-lin-printemps-ete/2437-10819-chemise-ample-imprimee-gaze-lin-manches-courtes-iwa-vert-green.html#/143-taille-34', 'https://zyga.fr/Chemises-tops-femme-lin-printemps-ete/2437-10819-chemise-ample-imprimee-gaze-lin-manches-courtes-iwa-vert-green.html#/143-taille-34', 'https://zyga.fr/Chemises-tops-femme-lin-printemps-ete/2394-10619-chemise-ample-boxy-gaze-lin-manches-courtes-iwa-bleu-regate.html#/143-taille-34', 'https://zyga.fr/Chemises-tops-femme-lin-printemps-ete/2394-10619-chemise-ample-boxy-gaze-lin-manches-courtes-iwa-bleu-regate.html#/143-taille-34', 'https://zyga.fr/Chemises-tops-femme-lin-printemps-ete/2439-10833-chemise-imprimee-france-gaze-lin-neptune-vert-green.html#/143-taille-34', 'https://zyga.fr/Chemises-tops-femme-lin-printemps-ete/2439-10833-chemise-imprimee-france-gaze-lin-neptune-vert-green.html#/143-taille-34', 'https://zyga.fr/Chemises-tops-femme-lin-printemps-ete/2390-10591-chemise-ample-boxy-gaze-lin-manches-courtes-iwa-vert-green.html#/143-taille-34', 'https://zyga.fr/Chemises-tops-femme-lin-printemps-ete/2390-10591-chemise-ample-boxy-gaze-lin-manches-courtes-iwa-vert-green.html#/143-taille-34', 'https://zyga.fr/Chemises-tops-femme-lin-printemps-ete/2397-10637-chemise-oversize-gaze-lin-june-manches-kimono-rose-bombay.html#/140-taille-xs', 'https://zyga.fr/Chemises-tops-femme-lin-printemps-ete/2397-10637-chemise-oversize-gaze-lin-june-manches-kimono-rose-bombay.html#/140-taille-xs', 'https://zyga.fr/accessoires-femme-durable-printemps-ete/2421-10739-echarpe-foulard-gaze-lin-duchesse-terre-sienne-3013995622017.html#/34-taille-unique', 'https://zyga.fr/accessoires-femme-durable-printemps-ete/2421-10739-echarpe-foulard-gaze-lin-duchesse-terre-sienne-3013995622017.html#/34-taille-unique', 'https://zyga.fr/Robes-femme-lin-printemps-ete/2350-10385-robe-midi-sans-manches-marie-gaze-lin-terre-sienne.html#/141-taille-s', 'https://zyga.fr/Robes-femme-lin-printemps-ete/2350-10385-robe-midi-sans-manches-marie-gaze-lin-terre-sienne.html#/141-taille-s', 'https://zyga.fr/Robes-femme-lin-printemps-ete/2373-10499-robe-ample-midi-summer-gaze-lin-noire.html#/143-taille-34', 'https://zyga.fr/Robes-femme-lin-printemps-ete/2373-10499-robe-ample-midi-summer-gaze-lin-noire.html#/143-taille-34', 'https://zyga.fr/accessoires-femme-durable-printemps-ete/2423-10741-echarpe-foulard-gaze-lin-duchesse-rose-bombay-3013995621911.html#/34-taille-unique', 'https://zyga.fr/accessoires-femme-durable-printemps-ete/2423-10741-echarpe-foulard-gaze-lin-duchesse-rose-bombay-3013995621911.html#/34-taille-unique', 'https://zyga.fr/Robes-femme-lin-printemps-ete/2349-10380-robe-midi-sans-manches-marie-gaze-lin-bleu-regate.html#/141-taille-s', 'https://zyga.fr/Robes-femme-lin-printemps-ete/2349-10380-robe-midi-sans-manches-marie-gaze-lin-bleu-regate.html#/141-taille-s', 'https://zyga.fr/Chemises-tops-femme-lin-printemps-ete/2438-10826-chemise-ample-imprimee-gaze-lin-manches-courtes-iwa-terre-sienne.html#/143-taille-34', 'https://zyga.fr/Chemises-tops-femme-lin-printemps-ete/2438-10826-chemise-ample-imprimee-gaze-lin-manches-courtes-iwa-terre-sienne.html#/143-taille-34', 'https://zyga.fr/Chemises-tops-femme-lin-printemps-ete/2440-10841-chemise-imprimee-france-gaze-lin-neptune-terre-sienne.html#/143-taille-34', 'https://zyga.fr/Chemises-tops-femme-lin-printemps-ete/2440-10841-chemise-imprimee-france-gaze-lin-neptune-terre-sienne.html#/143-taille-34', 'https://zyga.fr/Robes-femme-lin-printemps-ete/2346-10365-robe-midi-sans-manches-marie-gaze-lin-noire.html#/141-taille-s', 'https://zyga.fr/Robes-femme-lin-printemps-ete/2346-10365-robe-midi-sans-manches-marie-gaze-lin-noire.html#/141-taille-s', 'https://zyga.fr/Chemises-tops-femme-lin-printemps-ete/2400-10649-chemise-oversize-gaze-lin-june-manches-kimono-noire.html#/140-taille-xs', 'https://zyga.fr/Chemises-tops-femme-lin-printemps-ete/2400-10649-chemise-oversize-gaze-lin-june-manches-kimono-noire.html#/140-taille-xs', 'https://zyga.fr/Robes-femme-lin-printemps-ete/2365-10463-robe-tunique-style-poncho-sakura-gaze-lin-vert-olive.html#/141-taille-s', 'https://zyga.fr/Robes-femme-lin-printemps-ete/2365-10463-robe-tunique-style-poncho-sakura-gaze-lin-vert-olive.html#/141-taille-s', 'https://zyga.fr/Chemises-tops-femme-lin-printemps-ete/2430-10786-blouse-fronce-manches-trois-quarts-gaze-lin-solange-terre-sienne.html#/143-taille-34', 'https://zyga.fr/Chemises-tops-femme-lin-printemps-ete/2430-10786-blouse-fronce-manches-trois-quarts-gaze-lin-solange-terre-sienne.html#/143-taille-34', 'https://zyga.fr/Robes-femme-lin-printemps-ete/2343-10350-robe-midi-sans-manches-marie-gaze-lin-rose-bombay.html#/141-taille-s', 'https://zyga.fr/Robes-femme-lin-printemps-ete/2343-10350-robe-midi-sans-manches-marie-gaze-lin-rose-bombay.html#/141-taille-s', 'https://zyga.fr/Chemises-tops-femme-lin-printemps-ete/2411-10711-blouse-manches-trois-quarts-gaze-lin-salome-orange.html#/143-taille-34', 'https://zyga.fr/Chemises-tops-femme-lin-printemps-ete/2411-10711-blouse-manches-trois-quarts-gaze-lin-salome-orange.html#/143-taille-34', 'https://zyga.fr/Chemises-tops-femme-lin-printemps-ete/2405-10669-blouse-manches-trois-quarts-gaze-lin-salome-blanc.html#/143-taille-34', 'https://zyga.fr/Chemises-tops-femme-lin-printemps-ete/2405-10669-blouse-manches-trois-quarts-gaze-lin-salome-blanc.html#/143-taille-34', 'https://zyga.fr/Robes-femme-lin-printemps-ete/2357-10432-robe-courte-sans-manches-sarah-gaze-lin-orange.html#/143-taille-34', 'https://zyga.fr/Robes-femme-lin-printemps-ete/2357-10432-robe-courte-sans-manches-sarah-gaze-lin-orange.html#/143-taille-34', 'https://zyga.fr/Robes-femme-lin-printemps-ete/2354-10411-robe-courte-sans-manches-sarah-gaze-lin-vert-green.html#/143-taille-34', 'https://zyga.fr/Robes-femme-lin-printemps-ete/2354-10411-robe-courte-sans-manches-sarah-gaze-lin-vert-green.html#/143-taille-34', 'https://zyga.fr/pantalons-shorts-femme-lin-printemps-ete/2241-9630-pantalon-coupe-droite-sagan-lin-moyen-bleu-regate.html#/143-taille-34', 'https://zyga.fr/pantalons-shorts-femme-lin-printemps-ete/2241-9630-pantalon-coupe-droite-sagan-lin-moyen-bleu-regate.html#/143-taille-34', 'https://zyga.fr/pantalons-shorts-femme-lin-printemps-ete/2236-9595-pantalon-coupe-droite-sagan-lin-moyen-bleu-encre.html#/143-taille-34', 'https://zyga.fr/pantalons-shorts-femme-lin-printemps-ete/2236-9595-pantalon-coupe-droite-sagan-lin-moyen-bleu-encre.html#/143-taille-34', 'https://zyga.fr/Robes-femme-lin-printemps-ete/2384-11246-robe-longue-nouee-shirley-gaze-lin-orange.html#/140-taille-xs', 'https://zyga.fr/Robes-femme-lin-printemps-ete/2384-11246-robe-longue-nouee-shirley-gaze-lin-orange.html#/140-taille-xs', 'https://zyga.fr/Chemises-tops-femme-lin-printemps-ete/2443-10857-blouse-imprime-manches-trois-quarts-gaze-lin-salome-rose-dragee.html#/143-taille-34', 'https://zyga.fr/Chemises-tops-femme-lin-printemps-ete/2443-10857-blouse-imprime-manches-trois-quarts-gaze-lin-salome-rose-dragee.html#/143-taille-34', 'https://zyga.fr/Chemises-tops-femme-lin-printemps-ete/2455-10917-chemise-imprimee-fronce-sans-manches-sully-gaze-lin-vert-olive.html#/143-taille-34', 'https://zyga.fr/Chemises-tops-femme-lin-printemps-ete/2455-10917-chemise-imprimee-fronce-sans-manches-sully-gaze-lin-vert-olive.html#/143-taille-34', 'https://zyga.fr/Robes-femme-lin-printemps-ete/2351-10390-robe-courte-sans-manches-sarah-gaze-lin-blanc.html#/143-taille-34', 'https://zyga.fr/Robes-femme-lin-printemps-ete/2351-10390-robe-courte-sans-manches-sarah-gaze-lin-blanc.html#/143-taille-34', 'https://zyga.fr/Chemises-tops-femme-lin-printemps-ete/2473-11052-chemise-100lin.html#/143-taille-34', 'https://zyga.fr/Chemises-tops-femme-lin-printemps-ete/2473-11052-chemise-100lin.html#/143-taille-34', 'https://zyga.fr/Chemises-tops-femme-lin-printemps-ete/2469-11024-blouse-fronce-manches-trois-quarts-gaze-lin-solange-noire.html#/143-taille-34', 'https://zyga.fr/Chemises-tops-femme-lin-printemps-ete/2469-11024-blouse-fronce-manches-trois-quarts-gaze-lin-solange-noire.html#/143-taille-34', 'https://zyga.fr/Robes-femme-lin-printemps-ete/2308-10098-robe-courte-volants-sole-lin-leger-bleu-encre.html#/143-taille-34', 'https://zyga.fr/Robes-femme-lin-printemps-ete/2308-10098-robe-courte-volants-sole-lin-leger-bleu-encre.html#/143-taille-34', 'https://zyga.fr/Chemises-tops-femme-lin-printemps-ete/2454-10910-chemise-imprimee-fronce-sans-manches-sully-gaze-lin-bleu-encre.html#/143-taille-34', 'https://zyga.fr/Chemises-tops-femme-lin-printemps-ete/2454-10910-chemise-imprimee-fronce-sans-manches-sully-gaze-lin-bleu-encre.html#/143-taille-34']\n"
     ]
    }
   ],
   "source": [
    "print(len(product_links))\n",
    "print(product_links)"
   ]
  },
  {
   "cell_type": "code",
   "execution_count": 6,
   "metadata": {
    "id": "Wd1uiK6g_aqG"
   },
   "outputs": [],
   "source": [
    "def retrieve_product_info(product_links, headers):\n",
    "  product_list = []\n",
    "  for link in product_links:\n",
    "\n",
    "    response = requests.get(link, headers=headers)\n",
    "    soup = BeautifulSoup(response.content, 'html.parser')\n",
    "\n",
    "    charToDelete = '\\n'\n",
    "    name = soup.find(\"h1\", class_=\"product-title--big\").text\n",
    "    # print(\"clothes_name : \"+ name + \"\\n\")\n",
    "\n",
    "    price = soup.find(\"div\", class_=\"current-price\").text\n",
    "    # print(price[1:7] + \"€\")\n",
    "    # print(\"price : \"+ price + \"\\n\")\n",
    "\n",
    "    description = soup.find(\"div\", itemprop=\"description\").text\n",
    "    description_modified = [character for character in description if character != charToDelete]\n",
    "\n",
    "    # print(type(description_modified))\n",
    "    # print(\"description : \"+ description + \"\\n\")\n",
    "\n",
    "    fabric = []\n",
    "    for elt in soup.find(\"div\", class_=\"rte\"):\n",
    "      for s in elt:\n",
    "        # print(s)\n",
    "        fabric.append(s)\n",
    "\n",
    "    # list_of_price = [s.strip('\\xa0€') for s in fabric]\n",
    "\n",
    "    \n",
    "    fabric_lin = fabric[1]\n",
    "    fabric_washing_advice = fabric[15:20]\n",
    "    # print(\"fabric : \", fabric_lin, \"\\n\")\n",
    "    # print(\"fabric : \", fabric_washing_advice, \"\\n\")\n",
    "    fabric_washing_advice = [character for character in fabric_washing_advice if character != charToDelete]\n",
    "\n",
    "    # print(type(fabric))\n",
    "    zyga_clothes = {\n",
    "        \"name\" : name,\n",
    "        \"price\" : price[1:7] + \"€\",\n",
    "        \"description\" : description,\n",
    "        \"fabric\" : fabric_lin,\n",
    "        \"washing advice\" : fabric_washing_advice, \n",
    "        \"url\" : link\n",
    "    }\n",
    "\n",
    "    product_list.append(zyga_clothes)\n",
    "    # print(\"Saving\", description_modified[\"description\"])\n",
    "  return product_list"
   ]
  },
  {
   "cell_type": "code",
   "execution_count": 7,
   "metadata": {
    "colab": {
     "base_uri": "https://localhost:8080/"
    },
    "executionInfo": {
     "elapsed": 2104,
     "status": "ok",
     "timestamp": 1683479807822,
     "user": {
      "displayName": "srilakshmi balard",
      "userId": "03765410236605464472"
     },
     "user_tz": -120
    },
    "id": "RC-fhJ5xNo3b",
    "outputId": "896c175f-f1c0-447a-bf76-a70eebff7ef9"
   },
   "outputs": [
    {
     "name": "stdout",
     "output_type": "stream",
     "text": [
      "216\n"
     ]
    }
   ],
   "source": [
    "product_list = retrieve_product_info(product_links, headers)\n",
    "print(len(product_list))"
   ]
  },
  {
   "cell_type": "code",
   "execution_count": 8,
   "metadata": {
    "id": "E4iI-LLBN2Xr"
   },
   "outputs": [],
   "source": [
    "def product_df(product_list):\n",
    "  df_zyga_clothes = pd.DataFrame(product_list)\n",
    "  return df_zyga_clothes\n"
   ]
  },
  {
   "cell_type": "code",
   "execution_count": 9,
   "metadata": {
    "id": "VPSBAHVOLqnZ"
   },
   "outputs": [],
   "source": [
    "df_zyga_clothes = product_df(product_list)"
   ]
  },
  {
   "cell_type": "code",
   "execution_count": 10,
   "metadata": {
    "colab": {
     "base_uri": "https://localhost:8080/",
     "height": 161
    },
    "executionInfo": {
     "elapsed": 232,
     "status": "ok",
     "timestamp": 1683479891298,
     "user": {
      "displayName": "srilakshmi balard",
      "userId": "03765410236605464472"
     },
     "user_tz": -120
    },
    "id": "rPIcr04mLqj1",
    "outputId": "44767f24-a828-4d40-d281-fa3a971bb627"
   },
   "outputs": [
    {
     "data": {
      "text/html": [
       "<div>\n",
       "<style scoped>\n",
       "    .dataframe tbody tr th:only-of-type {\n",
       "        vertical-align: middle;\n",
       "    }\n",
       "\n",
       "    .dataframe tbody tr th {\n",
       "        vertical-align: top;\n",
       "    }\n",
       "\n",
       "    .dataframe thead th {\n",
       "        text-align: right;\n",
       "    }\n",
       "</style>\n",
       "<table border=\"1\" class=\"dataframe\">\n",
       "  <thead>\n",
       "    <tr style=\"text-align: right;\">\n",
       "      <th></th>\n",
       "      <th>name</th>\n",
       "      <th>price</th>\n",
       "      <th>description</th>\n",
       "      <th>fabric</th>\n",
       "      <th>washing advice</th>\n",
       "      <th>url</th>\n",
       "    </tr>\n",
       "  </thead>\n",
       "  <tbody>\n",
       "    <tr>\n",
       "      <th>0</th>\n",
       "      <td>Robe midi ample SUMMER en Lin - Green</td>\n",
       "      <td>178,00€</td>\n",
       "      <td>\\nRobe midi ample en gaze de Lin - Vert Green\\...</td>\n",
       "      <td>100% Gaze de Lin (85g/m2)</td>\n",
       "      <td>[- Lavage en machine, 40° maximum avec un esso...</td>\n",
       "      <td>https://zyga.fr/Robes-femme-lin-printemps-ete/...</td>\n",
       "    </tr>\n",
       "    <tr>\n",
       "      <th>1</th>\n",
       "      <td>Robe midi ample SUMMER en Lin - Green</td>\n",
       "      <td>178,00€</td>\n",
       "      <td>\\nRobe midi ample en gaze de Lin - Vert Green\\...</td>\n",
       "      <td>100% Gaze de Lin (85g/m2)</td>\n",
       "      <td>[- Lavage en machine, 40° maximum avec un esso...</td>\n",
       "      <td>https://zyga.fr/Robes-femme-lin-printemps-ete/...</td>\n",
       "    </tr>\n",
       "    <tr>\n",
       "      <th>2</th>\n",
       "      <td>Blouse à fronces SOLANGE en Lin imprimé - Green</td>\n",
       "      <td>168,00€</td>\n",
       "      <td>\\nBlouse froncée en gaze de Lin lavée - Vert G...</td>\n",
       "      <td>100% Gaze de Lin (85g/m2) imprimée et lavée</td>\n",
       "      <td>[- Laver en machine maximum 40° avec un essora...</td>\n",
       "      <td>https://zyga.fr/Chemises-tops-femme-lin-printe...</td>\n",
       "    </tr>\n",
       "    <tr>\n",
       "      <th>3</th>\n",
       "      <td>Blouse à fronces SOLANGE en Lin imprimé - Green</td>\n",
       "      <td>168,00€</td>\n",
       "      <td>\\nBlouse froncée en gaze de Lin lavée - Vert G...</td>\n",
       "      <td>100% Gaze de Lin (85g/m2) imprimée et lavée</td>\n",
       "      <td>[- Laver en machine maximum 40° avec un essora...</td>\n",
       "      <td>https://zyga.fr/Chemises-tops-femme-lin-printe...</td>\n",
       "    </tr>\n",
       "    <tr>\n",
       "      <th>4</th>\n",
       "      <td>Robe polo SELMA en Lin - Green</td>\n",
       "      <td>178,00€</td>\n",
       "      <td>\\nRobe col polo évasée en Lin Léger lavé - Ver...</td>\n",
       "      <td>100% Lin Léger (135g/m²)</td>\n",
       "      <td>[Entretien :, - Lavage en machine à 40° maximu...</td>\n",
       "      <td>https://zyga.fr/Robes-femme-lin-printemps-ete/...</td>\n",
       "    </tr>\n",
       "  </tbody>\n",
       "</table>\n",
       "</div>"
      ],
      "text/plain": [
       "                                              name    price  \\\n",
       "0            Robe midi ample SUMMER en Lin - Green  178,00€   \n",
       "1            Robe midi ample SUMMER en Lin - Green  178,00€   \n",
       "2  Blouse à fronces SOLANGE en Lin imprimé - Green  168,00€   \n",
       "3  Blouse à fronces SOLANGE en Lin imprimé - Green  168,00€   \n",
       "4                   Robe polo SELMA en Lin - Green  178,00€   \n",
       "\n",
       "                                         description  \\\n",
       "0  \\nRobe midi ample en gaze de Lin - Vert Green\\...   \n",
       "1  \\nRobe midi ample en gaze de Lin - Vert Green\\...   \n",
       "2  \\nBlouse froncée en gaze de Lin lavée - Vert G...   \n",
       "3  \\nBlouse froncée en gaze de Lin lavée - Vert G...   \n",
       "4  \\nRobe col polo évasée en Lin Léger lavé - Ver...   \n",
       "\n",
       "                                        fabric  \\\n",
       "0                    100% Gaze de Lin (85g/m2)   \n",
       "1                    100% Gaze de Lin (85g/m2)   \n",
       "2  100% Gaze de Lin (85g/m2) imprimée et lavée   \n",
       "3  100% Gaze de Lin (85g/m2) imprimée et lavée   \n",
       "4                     100% Lin Léger (135g/m²)   \n",
       "\n",
       "                                      washing advice  \\\n",
       "0  [- Lavage en machine, 40° maximum avec un esso...   \n",
       "1  [- Lavage en machine, 40° maximum avec un esso...   \n",
       "2  [- Laver en machine maximum 40° avec un essora...   \n",
       "3  [- Laver en machine maximum 40° avec un essora...   \n",
       "4  [Entretien :, - Lavage en machine à 40° maximu...   \n",
       "\n",
       "                                                 url  \n",
       "0  https://zyga.fr/Robes-femme-lin-printemps-ete/...  \n",
       "1  https://zyga.fr/Robes-femme-lin-printemps-ete/...  \n",
       "2  https://zyga.fr/Chemises-tops-femme-lin-printe...  \n",
       "3  https://zyga.fr/Chemises-tops-femme-lin-printe...  \n",
       "4  https://zyga.fr/Robes-femme-lin-printemps-ete/...  "
      ]
     },
     "execution_count": 10,
     "metadata": {},
     "output_type": "execute_result"
    }
   ],
   "source": [
    "df_zyga_clothes.head()"
   ]
  },
  {
   "cell_type": "code",
   "execution_count": 11,
   "metadata": {
    "id": "GatTLJ_VLqhK"
   },
   "outputs": [
    {
     "data": {
      "text/plain": [
       "(216, 6)"
      ]
     },
     "execution_count": 11,
     "metadata": {},
     "output_type": "execute_result"
    }
   ],
   "source": [
    "df_zyga_clothes.shape"
   ]
  },
  {
   "cell_type": "code",
   "execution_count": 12,
   "metadata": {
    "id": "2g6nfXPJVyh7"
   },
   "outputs": [],
   "source": [
    "df_zyga_clothes.to_csv('zyga_data.csv', encoding='utf-8')"
   ]
  },
  {
   "cell_type": "code",
   "execution_count": null,
   "metadata": {
    "id": "nbc8wK5CVyeg"
   },
   "outputs": [],
   "source": []
  },
  {
   "cell_type": "code",
   "execution_count": null,
   "metadata": {
    "id": "gEIfXYKFVybm"
   },
   "outputs": [],
   "source": []
  }
 ],
 "metadata": {
  "colab": {
   "authorship_tag": "ABX9TyOzyMxGxsOeBREQUq/SJMs7",
   "provenance": [
    {
     "file_id": "1GtUHtQ2UpQDcGZ_ixPPI3QhiStIALv-3",
     "timestamp": 1683479935355
    },
    {
     "file_id": "1BqtPijwDYSh3OBNjT3ksse3o5EHTrU-D",
     "timestamp": 1683479088861
    },
    {
     "file_id": "1pnecBdNwSoZrtbfkSnmj4H8-W3w78nuy",
     "timestamp": 1683214324932
    },
    {
     "file_id": "1Sge0kMmhnC728tpuZ-T9Ic6HkeABNER4",
     "timestamp": 1683159900012
    }
   ]
  },
  "kernelspec": {
   "display_name": "Python 3",
   "language": "python",
   "name": "python3"
  },
  "language_info": {
   "codemirror_mode": {
    "name": "ipython",
    "version": 3
   },
   "file_extension": ".py",
   "mimetype": "text/x-python",
   "name": "python",
   "nbconvert_exporter": "python",
   "pygments_lexer": "ipython3",
   "version": "3.8.8"
  }
 },
 "nbformat": 4,
 "nbformat_minor": 1
}
